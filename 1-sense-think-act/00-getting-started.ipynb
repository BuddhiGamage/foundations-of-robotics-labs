{
    "cells": [
        {
            "cell_type": "markdown",
            "metadata": {},
            "source": [
                "# Sphero RVR ROS - Getting Started\n",
                "\n",
                "[![nbviewer](https://raw.githubusercontent.com/jupyter/design/master/logos/Badges/nbviewer_badge.svg)](https://nbviewer.jupyter.org/github/CollaborativeRoboticsLab/foundations-of-robotics-labs/blob/master/1-sense-think-act/00-getting-started.ipynb)\n",
                "[![Binder](https://mybinder.org/badge_logo.svg)](https://mybinder.org/v2/gh/CollaborativeRoboticsLab/foundations-of-robotics-labs/master?filepath=1-sense-think-act/00-getting-started.ipynb)\n",
                "\n",
                "## Schedule of Notebooks\n",
                "\n",
                "Try to complete the following notebooks in the order listed below. Each notebook has an estimated duration.\n",
                "\n",
                "1. [Getting Started](./00-getting-started.ipynb) - **30 minutes**\n",
                "2. [ROS Tools](./01-ros-tooling.ipynb) - **30 minutes**\n",
                "3. [Rospy Snippets](./02-rospy-snippets.ipynb) - **60 minutes**\n",
                "4. [Assignment](./03-sta-assignment.ipynb) - **120 minutes**\n",
                "\n",
                "---\n",
                "\n",
                "The [Sphero RVR](<https://sphero.com/pages/sphero-rvr-resources>) is a rugged, all-terrain programmable robot that you can drive, code, and customize. RVR is equipped with a powerful motor, all-terrain treads, and plenty of torque so you can go faster and farther. Obstacles or uneven surfaces won't affect RVR's ability to drive straight.\n",
                "\n",
                "<a href=\"https://youtu.be/GtJXZzbfk1A?si=YKPfneI73XtWtxrK\"><img src=\"./docs/images/sphero-rvr.webp\" alt=\"Sphero RVR\" width=\"400\" href=\"https://sphero.com/pages/sphero-rvr-resources\"/></a>\n",
                "\n",
                "The Sphero RVR ROS package allows you to control the RVR robot using ROS providing an extensible interface for the Sphero RVR."
            ]
        },
        {
            "cell_type": "markdown",
            "metadata": {},
            "source": [
                "## How it works\n",
                "\n",
                "The Sphero RVR ROS package is a [***`wrapper`***](<https://en.wikipedia.org/wiki/Wrapper_library>) around the [Sphero SDK](<https://sdk.sphero.com/raspberry-pi-setup>). The package provides a ROS interface to the Sphero RVR robot. The package provides a [ROS node](<http://wiki.ros.org/Nodes>) that communicates with the Sphero RVR robot using the Sphero SDK.\n",
                "\n",
                "### Onboard micro computer\n",
                "\n",
                "The Sphero RVR robot is equipped with a Raspberry Pi computer. The Raspberry Pi is a computer that runs Linux. The Raspberry Pi is connected to the Sphero RVR robot's main microcontroller via a serial connection. The Raspberry Pi runs the ROS node that communicates with the Sphero RVR robot."
            ]
        },
        {
            "cell_type": "markdown",
            "metadata": {},
            "source": [
                "## Log into the Raspberry Pi\n",
                "\n",
                "The Raspberry Pi is running Linux. You can log into the Raspberry Pi using [SSH](<https://en.wikipedia.org/wiki/Secure_Shell>) (Secure Shell) from your computer. You can use a ***Terminal*** application on your computer to log into the Raspberry Pi.\n",
                "\n",
                "### Find the IP address of the Raspberry Pi\n",
                "\n",
                "Each Sphero RVR robot has a unique IP address. You need to work out the name of the rover to log into it. Each rover has a unique name. The name of the rover is printed on the **front** of the rover.\n",
                "\n",
                "The named address of the rover is the name of the rover with the `.local` suffix. For example, if the name of the rover is `robotics1`, then an accessible hostname address of the rover is `robotics1.local`.\n",
                "\n",
                "The IP address of the rover is the number `192.168.1.1xx` where `xx` is the number in the rover's name - printed on the **front** of the rover. For example, if the name of the rover is `robotics1`, then the IP address of the rover is `192.168.1.101`"
            ]
        },
        {
            "cell_type": "markdown",
            "metadata": {},
            "source": [
                "```bash\n",
                "# connect to the rover using one of the following addresses\n",
                "# in a terminal on your computer\n",
                "ssh student@roboticsxx.lan.robolab # replace 'xx' with the number on the rover\n",
                "\n",
                "# or using mDNS (multicast DNS) address\n",
                "ssh student@roboticsxx.local\n",
                "\n",
                "# or using the IP Address\n",
                "ssh student@192.168.0.1xx\n",
                "```"
            ]
        },
        {
            "cell_type": "markdown",
            "metadata": {},
            "source": [
                "## Start the ROS Application on the Rover\n",
                "\n",
                "The ROS application on the rover is started using a [launch file](<http://wiki.ros.org/roslaunch>).\n",
                "\n",
                "```bash\n",
                "# while logged into the Raspberry Pi\n",
                "# start the deployed ROS 'bringup' application on the rover\n",
                "roslaunch sphero_rvr_bringup sphero_rvr_bringup.launch\n",
                "\n",
                "# to stop the application, interrupt the process using Ctrl-C\n",
                "# in the same terminal, type Ctrl-C\n",
                "```"
            ]
        },
        {
            "cell_type": "markdown",
            "metadata": {},
            "source": [
                "## Inspecting the ROS Network\n",
                "\n",
                "The ROS network is a collection of computers that are running ROS nodes. The ROS nodes communicate with each other using the ROS network. The ROS network is a ***peer-to-peer*** network. This means that there is no central server. Each computer in the ROS network is a ***peer***. Each peer can communicate with any other peer in the ROS network.\n",
                "\n",
                "### ROS CLI Commands\n",
                "\n",
                "The ROS CLI provides commands that you can use to inspect the ROS network.\n",
                "\n",
                "> **Notes:**\n",
                ">\n",
                "> - The following example is intended to be run on the Raspberry Pi onboard the RVR. Make sure you are logged into the robot and run the following commands in that shell.\n",
                "> - **Make sure the ROS application is running on the rover before running the following commands!**\n",
                ">\n",
                "> **Tip**\n",
                ">\n",
                "> **After starting the control application, open another terminal and log into the rover to run the following commands.**"
            ]
        },
        {
            "cell_type": "markdown",
            "metadata": {},
            "source": [
                "```bash\n",
                "# while logged into the Raspberry Pi\n",
                "# list the running ROS nodes - these are the processes that make up the ROS network\n",
                "rosnode list\n",
                "\n",
                "# list the ROS topics - these are the communication channels that the ROS nodes use to communicate with each other\n",
                "rostopic list\n",
                "\n",
                "# list the ROS services - services are a special type of communication channel that allow a ROS node to request a service from another ROS node\n",
                "rosservice list\n",
                "```"
            ]
        },
        {
            "cell_type": "markdown",
            "metadata": {},
            "source": [
                "### Inspecting message data\n",
                "\n",
                "You can use the ROS CLI to inspect the data that is being published on a ROS topic."
            ]
        },
        {
            "cell_type": "markdown",
            "metadata": {},
            "source": [
                "```bash\n",
                "# while logged into the Raspberry Pi\n",
                "# inspect the data on a ROS topic\n",
                "# for example\n",
                "rostopic echo /rvr_driver/speed\n",
                "\n",
                "# using the inspection tools (such as rostopic), pick another topic to inspect\n",
                "# (Hint) type 'help' after the rostopic command to see the available options, and how to use the command\n",
                "```"
            ]
        },
        {
            "cell_type": "markdown",
            "metadata": {},
            "source": [
                "## Shutting Down the Pi\n",
                "\n",
                "> #### Warning:\n",
                ">\n",
                "> **Make sure to shutdown the pi properly before disconnecting the power.**\n",
                "\n",
                "```bash\n",
                "# while logged into the Raspberry Pi\n",
                "sudo shutdown now\n",
                "```"
            ]
        },
        {
            "cell_type": "markdown",
            "metadata": {},
            "source": [
                "### Questions\n",
                "\n",
                "Use the command line ROS tools to explore the ROS network on the rover.\n",
                " \n",
                "Check your understanding by answering the following questions:\n",
                "\n",
                "> **Attention!**\n",
                ">\n",
                "> **These questions are not graded. They are intended to help you check your understanding of the material.**"
            ]
        },
        {
            "cell_type": "markdown",
            "metadata": {},
            "source": [
                "#### 1. What is the name of the topic that is used to drive the rover?"
            ]
        },
        {
            "cell_type": "code",
            "execution_count": null,
            "metadata": {},
            "outputs": [],
            "source": []
        },
        {
            "cell_type": "markdown",
            "metadata": {},
            "source": [
                "#### 2. What is the name of the topic that reports the battery level of the rover?"
            ]
        },
        {
            "cell_type": "code",
            "execution_count": null,
            "metadata": {},
            "outputs": [],
            "source": []
        },
        {
            "cell_type": "markdown",
            "metadata": {},
            "source": [
                "#### 3. What does the topic `/rvr_driver/ambient_light` do?"
            ]
        },
        {
            "cell_type": "code",
            "execution_count": null,
            "metadata": {},
            "outputs": [],
            "source": []
        },
        {
            "cell_type": "markdown",
            "metadata": {},
            "source": [
                "#### 4. How many topics are there in the ROS network?"
            ]
        },
        {
            "cell_type": "code",
            "execution_count": null,
            "metadata": {},
            "outputs": [],
            "source": []
        },
        {
            "cell_type": "markdown",
            "metadata": {},
            "source": [
                "#### 5. How many nodes are there in the ROS network?"
            ]
        },
        {
            "cell_type": "code",
            "execution_count": null,
            "metadata": {},
            "outputs": [],
            "source": []
        },
        {
            "cell_type": "markdown",
            "metadata": {},
            "source": [
                "#### 6. How fast does the IMU (Inertial Measurement Unit) on the rover report data?"
            ]
        },
        {
            "cell_type": "code",
            "execution_count": null,
            "metadata": {},
            "outputs": [],
            "source": []
        },
        {
            "cell_type": "markdown",
            "metadata": {},
            "source": [
                "#### 7. What is the name of the node that is responsible for driving the rover?"
            ]
        },
        {
            "cell_type": "code",
            "execution_count": null,
            "metadata": {},
            "outputs": [],
            "source": []
        }
    ],
    "metadata": {
        "kernelspec": {
            "display_name": "Python 3 (ipykernel)",
            "language": "python",
            "name": "python3"
        },
        "language_info": {
            "codemirror_mode": {
                "name": "ipython",
                "version": 3
            },
            "file_extension": ".py",
            "mimetype": "text/x-python",
            "name": "python",
            "nbconvert_exporter": "python",
            "pygments_lexer": "ipython3",
            "version": "3.10.6"
        }
    },
    "nbformat": 4,
    "nbformat_minor": 4
}
