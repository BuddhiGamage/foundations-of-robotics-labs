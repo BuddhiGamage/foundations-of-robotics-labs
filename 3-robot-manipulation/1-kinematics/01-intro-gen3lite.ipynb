{
    "cells": [
        {
            "cell_type": "markdown",
            "metadata": {},
            "source": [
                "# The Kinova Gen3 Lite\n",
                "\n",
                "[![nbviewer](https://raw.githubusercontent.com/jupyter/design/master/logos/Badges/nbviewer_badge.svg)](https://nbviewer.jupyter.org/github/CollaborativeRoboticsLab/foundations-of-robotics-labs/blob/master/3-robot-manipulation/1-kinematics/01-intro-gen3lite.ipynb)\n",
                "[![Binder](https://mybinder.org/badge_logo.svg)](https://mybinder.org/v2/gh/CollaborativeRoboticsLab/foundations-of-robotics-labs/master?filepath=3-robot-manipulation/1-kinematics/01-intro-gen3lite.ipynb)\n",
                "\n",
                "## Schedule of Notebooks\n",
                "\n",
                "Try to complete the following notebooks in the order listed below. Each notebook has an estimated duration.\n",
                "\n",
                "1. [Intro Gen 3 Lite](./01-intro-gen3lite.ipynb) - **120 minutes**\n",
                "2. [Forward Kinematics](./02-direct-kinematics.ipynb) - **120 minutes**\n",
                "\n",
                "---\n",
                "\n",
                "The Kinova Gen3 Lite is a 6-DOF robot arm with a 2-DOF gripper. It is a lightweight robot arm with a small payload and reach. It is a collaborative robot, meaning that it is designed to work alongside humans. It is also a mobile robot, meaning that it can be mounted on a mobile base. The Gen3 Lite is a research platform, meaning that it is designed to be used by researchers to develop new algorithms and applications.\n",
                "\n",
                "[![Gen 3 Lite](./docs/images/gen3lite-overview.png)](https://www.kinovarobotics.com/product/gen3-lite-robots\")"
            ]
        },
        {
            "cell_type": "markdown",
            "metadata": {},
            "source": [
                "## Robot Manipulators\n",
                "\n",
                "A manipulator is a mechanical system that is controlled by a set of joints. The joints are connected to each other by rigid links. The end-effector (EE) is the last link of the manipulator and it is the part of the manipulator that interacts with the environment. The kinematics of a manipulator is the study of the relationship between the joint angles and the position and orientation of the EE.\n",
                "\n",
                "#### Degrees of Freedom\n",
                "\n",
                "In the context of robotics and mechanical systems, a degree of freedom (DOF) refers to the number of independent ways a dynamic system can move without violating any constraint imposed on it. It is the number of parameters that determine the state of a physical system and is important to define the kinematic chain of a robot. In robotics, each joint provides one or more degrees of freedom, allowing the robot to move in a certain direction or rotate around a certain axis.\n",
                "\n",
                "The degrees of freedom (DOF) of a manipulator is the number of independent joint angles that are required to specify the position and orientation of the EE. The Gen3 Lite has 6 DOF."
            ]
        },
        {
            "cell_type": "markdown",
            "metadata": {},
            "source": [
                "---"
            ]
        },
        {
            "cell_type": "markdown",
            "metadata": {},
            "source": [
                "## Working with the Gen3 Lite\n",
                "\n",
                "#### Connecting to the Robot\n",
                "\n",
                "The Gen3 Lite is connected to the computer using a USB cable and it provides a network connection to the computer much like a home router. The robot can be accessed using the IP address `192.168.1.10`\n",
                "\n",
                "#### Controlling the Robot\n",
                "\n",
                "Kinova manipulators are controlled using the Kinova API, and they provide an interface for ROS.\n",
                "\n",
                "The Gen3 lite can also be controlled using a gamepad. The controls are below:\n",
                "\n",
                "![Gamepad Controls](docs/images/gen3-controls.png)"
            ]
        },
        {
            "cell_type": "markdown",
            "metadata": {},
            "source": [
                "### Run the Gen3 Lite Simulation\n",
                "\n",
                "The Gen3 Lite simulation can be run using ROS and the Gazebo physics simulator. The simulation is available with the `kortex_ros` packages.\n",
                "\n",
                "**Try to run the simluator**\n",
                "\n",
                "```bash\n",
                "# in a terminal on the PC\n",
                "roslaunch kortex_gazebo spawn_kortex_robot.launch arm:=gen3_lite\n",
                "```\n",
                "\n",
                "![Gen3 Lite Simulation](docs/images/gen3lite-sim.png)"
            ]
        },
        {
            "cell_type": "markdown",
            "metadata": {},
            "source": [
                "#### Explore the ROS Network\n",
                "\n",
                "Use ROS tools to explore the ROS network and the topics that are being published."
            ]
        },
        {
            "cell_type": "markdown",
            "metadata": {},
            "source": [
                "### Run the Gen3 Lite in Real Life\n",
                "\n",
                "The Gen3 Lite can be used in real life with a similar set up. The robot needs to be connected to the PC via the USB-Micro cable.\n",
                "\n",
                "**Try to run the robot**\n",
                "\n",
                "```bash\n",
                "# in a terminal on the PC\n",
                "# make sure the robot is connected to the PC via USB\n",
                "roslaunch kortex_driver kortex_driver.launch arm:=gen3_lite\n",
                "```"
            ]
        },
        {
            "cell_type": "markdown",
            "metadata": {},
            "source": [
                "---"
            ]
        },
        {
            "cell_type": "markdown",
            "metadata": {},
            "source": [
                "## Questions\n",
                "\n",
                "For your understanding, try to answer the following questions:\n",
                "\n",
                "> **Attention!**\n",
                ">\n",
                "> The following questions are not graded, but they are helpful for your understanding. Try to answer them to the best of your ability."
            ]
        },
        {
            "cell_type": "markdown",
            "metadata": {},
            "source": [
                "#### 1. What is a manipulator?"
            ]
        },
        {
            "cell_type": "code",
            "execution_count": null,
            "metadata": {
                "vscode": {
                    "languageId": "plaintext"
                }
            },
            "outputs": [],
            "source": []
        },
        {
            "cell_type": "markdown",
            "metadata": {},
            "source": [
                "#### 2. What is the end-effector?"
            ]
        },
        {
            "cell_type": "code",
            "execution_count": null,
            "metadata": {
                "vscode": {
                    "languageId": "plaintext"
                }
            },
            "outputs": [],
            "source": []
        },
        {
            "cell_type": "markdown",
            "metadata": {},
            "source": [
                "#### 3. What is manipulator kinematics?"
            ]
        },
        {
            "cell_type": "code",
            "execution_count": null,
            "metadata": {
                "vscode": {
                    "languageId": "plaintext"
                }
            },
            "outputs": [],
            "source": []
        },
        {
            "cell_type": "markdown",
            "metadata": {},
            "source": [
                "#### 4. What is a degree of freedom?"
            ]
        },
        {
            "cell_type": "code",
            "execution_count": null,
            "metadata": {
                "vscode": {
                    "languageId": "plaintext"
                }
            },
            "outputs": [],
            "source": []
        }
    ],
    "metadata": {
        "language_info": {
            "name": "python"
        }
    },
    "nbformat": 4,
    "nbformat_minor": 2
}
