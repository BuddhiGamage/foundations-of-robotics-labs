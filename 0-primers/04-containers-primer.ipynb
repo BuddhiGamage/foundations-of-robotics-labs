{
    "cells": [
        {
            "cell_type": "markdown",
            "metadata": {},
            "source": [
                "# Containers Primer\n",
                "\n",
                "[![nbviewer](https://raw.githubusercontent.com/jupyter/design/master/logos/Badges/nbviewer_badge.svg)](https://nbviewer.jupyter.org/github/CollaborativeRoboticsLab/foundations-of-robotics-labs/blob/master/0-primers/04-containers-primer.ipynb)\n",
                "[![Binder](https://mybinder.org/badge_logo.svg)](https://mybinder.org/v2/gh/CollaborativeRoboticsLab/foundations-of-robotics-labs/master?filepath=0-primers/04-containers-primer.ipynb)\n",
                "\n",
                "The purpose of this notebook is to introduce you to the concept of containers and how to use them. Containers are a way to package code and its dependencies together. This allows you to run code in a consistent environment, regardless of what machine you are running it on. This is especially useful when you are working in a team, as it allows you to ensure that everyone is running the same code in the same environment."
            ]
        },
        {
            "cell_type": "markdown",
            "metadata": {},
            "source": [
                "## What is a container?\n",
                "\n",
                "A [container](https://en.wikipedia.org/wiki/OS-level_virtualization) is a way to package code and its dependencies together. It is like a small virtual computer that you can run on your computer. It is similar to a [virtual machine](https://en.wikipedia.org/wiki/Virtual_machine), but it is much more lightweight. It is also similar to a python virtual environment, but it can be used for any programming language."
            ]
        },
        {
            "cell_type": "markdown",
            "metadata": {},
            "source": [
                "## Why use containers?\n",
                "\n",
                "Containers are used for several reasons:\n",
                "\n",
                "1. **Consistency**: Containers allow you to run code in a consistent environment, regardless of the machine you're running it on. This is particularly useful in team settings, ensuring everyone is running the same code in the same environment.\n",
                "\n",
                "2. **Isolation**: Containers allow you to run code in an isolated environment. This means you can run code without worrying about it affecting other code on your machine.\n",
                "\n",
                "3. **Security**: Containers allow you to run code in a secure environment, providing an additional layer of protection against malicious code affecting your machine.\n",
                "\n",
                "4. **Portability**: Containers allow you to run code in a portable environment. This means you can run code on your machine, and then easily move it to another machine without having to worry about installing dependencies.\n",
                "\n",
                "### Why use containers in robotics?\n",
                "\n",
                "In robotics development, we often have to deal with a lot of dependencies. For example, we may have to install ROS, OpenCV, and other libraries. We may also have to install drivers for our sensors and actuators. This can be a lot of work, and it can be difficult to ensure that the computer onboard a robot has the same environment as the computer we are developing on. Containers allow us to package all of these dependencies together, and run them in a consistent environment. "
            ]
        },
        {
            "cell_type": "markdown",
            "metadata": {},
            "source": [
                "## Docker\n",
                "\n",
                "[Docker](<https://www.docker.com/>) is a tool for creating and managing containers. It is one of the most popular containerization tools. It is popular in the robotics community and helps in the development of ROS applications. It is the container tool that we will be using in this course. Docker is available for Windows, Mac, and Linux."
            ]
        }
    ],
    "metadata": {
        "kernelspec": {
            "display_name": "Python 3 (ipykernel)",
            "language": "python",
            "name": "python3"
        },
        "language_info": {
            "codemirror_mode": {
                "name": "ipython",
                "version": 3
            },
            "file_extension": ".py",
            "mimetype": "text/x-python",
            "name": "python",
            "nbconvert_exporter": "python",
            "pygments_lexer": "ipython3",
            "version": "3.8.10"
        }
    },
    "nbformat": 4,
    "nbformat_minor": 4
}
