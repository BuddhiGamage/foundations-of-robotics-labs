{
    "cells": [
        {
            "cell_type": "markdown",
            "metadata": {},
            "source": [
                "# Terminal Primer\n",
                "\n",
                "[![nbviewer](https://raw.githubusercontent.com/jupyter/design/master/logos/Badges/nbviewer_badge.svg)](https://nbviewer.jupyter.org/github/CollaborativeRoboticsLab/foundations-of-robotics-labs/blob/master/0-primers/02-terminal-primer.ipynb)\n",
                "[![Binder](https://mybinder.org/badge_logo.svg)](https://mybinder.org/v2/gh/CollaborativeRoboticsLab/foundations-of-robotics-labs/master?filepath=0-primers/02-terminal-primer.ipynb)\n",
                "\n",
                "## Schedule of Notebooks\n",
                "\n",
                "Try to complete the following notebooks in the order listed below. Each notebook has an estimated duration.\n",
                "\n",
                "1. [Python Primer](01-python-primer.ipynb) - **40 minutes**\n",
                "2. [Terminal Primer](./02-terminal-primer.ipynb) - **30 minutes**\n",
                "3. [ROS Primer](./03-ros-primer.ipynb) - **40 minutes**\n",
                "4. [Container Primer](./04-containers-primer.ipynb) - **5 minutes**"
            ]
        },
        {
            "cell_type": "markdown",
            "metadata": {},
            "source": [
                "**What is a terminal?**\n",
                "\n",
                "In computer science, a `terminal` is a program that allows the user to access the computer's command-line interface (CLI). Using a terminal, the user can run programs on a computer without a graphical user interface (GUI). An example of a terminal program is the *Windows Command Prompt*, which provides access to the Windows CLI. Another example is the **Bash** shell, which is the default terminal program on most Linux distributions.\n",
                "\n",
                "**What is a shell?**\n",
                "\n",
                "A shell is a program that provides the traditional, text-only user interface for a Unix-like operating system. Its primary function is to read commands that are typed into a console (i.e., an all-text display mode) or terminal window (an all-text window) and then execute (i.e., run) them. The shell's main job is to start other programs.\n",
                "\n",
                "```bash\n",
                "# an example of a shell script that prints \"Hello, World!\" to the terminal in Bash using the echo command\n",
                "echo \"Hello, World!\"\n",
                "```"
            ]
        },
        {
            "cell_type": "markdown",
            "metadata": {},
            "source": [
                "## Additional Resources\n",
                "\n",
                "There are many resources available online for learning how to use the terminal. Here are a few that we recommend:\n",
                "\n",
                "- [The Command Line Crash Course](<https://cglab.ca/~morin/teaching/1405/clcc/book/cli-crash-course.html>)\n",
                "- [The Linux Command Line](http://linuxcommand.org/tlcl.php)\n",
                "- [Bash Guide for Beginners](http://tldp.org/LDP/Bash-Beginners-Guide/html/index.html)\n",
                "- [Bash Reference Manual](https://www.gnu.org/software/bash/manual/bash.html)"
            ]
        },
        {
            "cell_type": "markdown",
            "metadata": {},
            "source": [
                "## Contents\n",
                "\n",
                "1. [Terminal Commands in Jupyter Notebooks](#terminal-commands-in-jupyter-notebooks)\n",
                "2. [Common Terminal Commands](#common-terminal-commands)\n",
                "3. [Command Line Programs](#command-line-programs)\n",
                "4. [Git and GitHub](#git-and-github)"
            ]
        },
        {
            "cell_type": "markdown",
            "metadata": {},
            "source": [
                "## Terminal Commands In Jupyter Notebooks\n",
                "\n",
                "Jupyter Notebooks can execute commands from the command line using the `%` prefix"
            ]
        },
        {
            "cell_type": "code",
            "execution_count": null,
            "metadata": {},
            "outputs": [],
            "source": [
                "# Jupyter Notebooks can execute commands from the command line using the ! prefix\n",
                "# an example of this is shown below\n",
                "!echo \"Hello World\""
            ]
        },
        {
            "cell_type": "markdown",
            "metadata": {},
            "source": [
                "## Common Terminal Commands\n",
                "\n",
                "Navgating an operating system using the terminal is a bit different than using a GUI. Instead of clicking on folders and files, you type commands into the terminal to navigate the file system. Here are some of the most common commands:\n",
                "\n",
                "> **What is a file system?**\n",
                "> \n",
                "> A file system is a method of organizing and storing files on a computer. It is a hierarchy of directories (also referred to as folders) and files. The file system is responsible for managing the storage of files and directories on a computer's hard disk drive (HDD) or solid-state drive (SSD).\n",
                ">\n",
                "> These days cloud based filesystems obscure the files and folders in a way that makes it difficult to understand the underlying structure. However, filesystems are still important to understand because they are the foundation of how computers store and organize data.\n",
                "\n",
                "| Command | Description |\n",
                "| --- | --- |\n",
                "| `pwd` | Print the current working directory |\n",
                "| `ls` | List the contents of the current directory |\n",
                "| `cd` | Change directory |\n",
                "| `mkdir` | Make a new directory |\n",
                "| `touch` | Create a new file |\n",
                "| `rm` | Remove a file |\n",
                "| `rmdir` | Remove a directory |\n",
                "| `mv` | Move a file or directory |\n",
                "| `cp` | Copy a file or directory |\n",
                "| `cat` | Print the contents of a file to the terminal |\n",
                "| `head` | Print the first few lines of a file to the terminal |\n",
                "| `tail` | Print the last few lines of a file to the terminal |\n",
                "| `grep` | Search for a pattern in a file |\n",
                "| `wc` | Count the number of lines, words, and characters in a file |\n",
                "| `man` | Display the manual page for a command |\n",
                "\n",
                "<br>\n",
                "\n",
                "> Command line programs often have a help page that can be accessed by passing the `--help` flag to the program. For example, to see the help page for the `ls` command, you can run `ls --help` in the terminal.\n",
                "\n",
                "#### ***Give it a try!***"
            ]
        },
        {
            "cell_type": "code",
            "execution_count": null,
            "metadata": {},
            "outputs": [],
            "source": [
                "# The % prefix is used to execute special commands in the shell from a notebook\n",
                "\n",
                "# what is the current working directory\n",
                "%pwd\n",
                "\n",
                "# list all files in the current directory\n",
                "%ls\n",
                "\n",
                "# list all files in the current directory in long format\n",
                "%ls -l # the -l is a flag that is passed to the ls command is an option that changes the output of the command"
            ]
        },
        {
            "cell_type": "markdown",
            "metadata": {},
            "source": [
                "## Command Line Programs\n",
                "\n",
                "A command line program is a program that runs in a terminal. It is a program that can be run from the command line. There are many builtin command line programs, and you can also install your own command line programs.\n",
                "\n",
                "Examples of command line programs that are installed by developers:\n",
                "\n",
                "- `git` - a version control system\n",
                "- `Python` - a programming language\n",
                "- `pip` - a package manager for Python"
            ]
        },
        {
            "cell_type": "markdown",
            "metadata": {},
            "source": [
                "## Git and GitHub\n",
                "\n",
                "`Git` is a *version control* system that allows you to track changes to files and directories. It is a distributed version control system, which means that it stores a copy of the repository on each developer's computer. This allows developers to work on the same project at the same time without having to worry about overwriting each other's changes.\n",
                "\n",
                "`GitHub` is a web-based hosting service for Git repositories. It provides a graphical user interface (GUI) for managing Git repositories and allows developers to collaborate on projects using Git.\n",
                "\n",
                "Git and GitHub are often used together, but they are not the same thing. Git is a version control system, while GitHub is a web-based hosting service for Git repositories.\n",
                "\n",
                "Developers use Git and GitHub to collaborate on projects. They use Git to track changes to files and directories, and they use GitHub to share their changes with other developers.\n",
                "\n",
                "More information on how it works can be found [here](https://raw.githubusercontent.com/UC-SciTech/its-capstone-repo-template/main/docs/getting-started-with-source-control.md)."
            ]
        }
    ],
    "metadata": {
        "kernelspec": {
            "display_name": "Python 3 (ipykernel)",
            "language": "python",
            "name": "python3"
        },
        "language_info": {
            "codemirror_mode": {
                "name": "ipython",
                "version": 3
            },
            "file_extension": ".py",
            "mimetype": "text/x-python",
            "name": "python",
            "nbconvert_exporter": "python",
            "pygments_lexer": "ipython3",
            "version": "3.1.0"
        }
    },
    "nbformat": 4,
    "nbformat_minor": 4
}
