{
    "cells": [
        {
            "cell_type": "markdown",
            "metadata": {},
            "source": [
                "# Sense-Think-Act Assignment\n",
                "\n",
                "[![nbviewer](https://raw.githubusercontent.com/jupyter/design/master/logos/Badges/nbviewer_badge.svg)](https://nbviewer.jupyter.org/github/CollaborativeRoboticsLab/foundations-of-robotics-labs/blob/master/1-foundations/1-sense-think-act/03-sta-assignment.ipynb)\n",
                "[![Binder](https://mybinder.org/badge_logo.svg)](https://mybinder.org/v2/gh/CollaborativeRoboticsLab/foundations-of-robotics-labs/master?filepath=1-foundations/1-sense-think-act/03-sta-assignment.ipynb)\n",
                "\n",
                "The goal of this assignment is to implement a simple robot control algorithm that can detect light intensity and spin the robot in response to high intensity light.\n",
                "\n",
                "## Schedule of Notebooks\n",
                "\n",
                "Try to complete the following notebooks in the order listed below. Each notebook has an estimated duration.\n",
                "\n",
                "1. [Getting Started](./00-getting-started.ipynb) - **30 minutes**\n",
                "2. [ROS Tools](./01-ros-tooling.ipynb) - **30 minutes**\n",
                "3. [Rospy Snippets](./02-rospy-snippets.ipynb) - **60 minutes**\n",
                "4. [Assignment](./03-sta-assignment.ipynb) - **120 minutes**"
            ]
        },
        {
            "cell_type": "markdown",
            "metadata": {},
            "source": [
                "## Demonstration\n",
                "\n",
                "The following video demonstrates the expected robot's behaviour:\n",
                "\n",
                "<iframe width=\"560\" height=\"315\" src=\"https://www.youtube.com/embed/kxwQ-6f3SEI?si=eoZRijScd-9a150t\" title=\"STA Assignment Demo\" frameborder=\"0\" allow=\"accelerometer; clipboard-write; encrypted-media; gyroscope; picture-in-picture; web-share\" allowfullscreen></iframe>\n",
                "\n",
                "Can't see the video? [Link to the video](https://www.youtube.com/watch?v=kxwQ-6f3SEI)"
            ]
        },
        {
            "cell_type": "markdown",
            "metadata": {},
            "source": [
                "## Method\n",
                "\n",
                "To complete the assignment, you must first break down the project into smaller, manageable components.​\n",
                "\n",
                "1. Reading the ambient light sensor​\n",
                "1. Identifying the threshold LUX value for the robot spin​\n",
                "1. Controlling the motors (actuators) on RVR​\n",
                "1. Spinning the RVR​\n",
                "1. Logic to connect sensor input to the actuation output​\n",
                "1. Putting it all together within a ‘Sense, Think, Act’ loop\n",
                "\n",
                "#### Light Sensor\n",
                "\n",
                "The light sensor is located on the front of the RVR. It is a digital sensor that returns a number. The higher the value, the brighter the light.​\n",
                "\n",
                "#### Threshold Value\n",
                "\n",
                "The threshold value is the value at which the robot will spin. You will need to experiment with different values to find the best one.​\n",
                "\n",
                "#### Motor Control\n",
                "\n",
                "The rover responds to twist commands. The twist command is a combination of linear and angular velocity. The linear velocity is the speed at which the robot moves forward or backward. The angular velocity is the speed at which the robot spins.​\n",
                "\n",
                "The `cmd_vel` topic is a standard topic used to send twist commands to a robot. The message type is `geometry_msgs/Twist`.​"
            ]
        },
        {
            "cell_type": "code",
            "execution_count": null,
            "metadata": {},
            "outputs": [],
            "source": [
                "\"\"\"setting up ros enrionment variables\"\"\"\n",
                "\n",
                "# this set of lines is to make sure that the python scripts can find the ROS libraries\n",
                "import sys\n",
                "sys.path.append('/opt/ros/noetic/lib/python3/dist-packages')\n",
                "sys.path.append('/usr/lib/python3/dist-packages')\n",
                "\n",
                "import os\n",
                "\n",
                "#####################################################################\n",
                "# # !!!! DON'T FORGET TO CHANGE THIS TO THE ROBOT'S IP ADDRESS !!!! #\n",
                "#####################################################################\n",
                "\n",
                "# change the ROS environment variable to the robot's IP address\n",
                "ROBOT_HOSTNAME = '192.168.1.101' # for example, this could be an IP or a hostname depending on what is reachable on the network\n",
                "CONSOLE_HOSTNAME = '192.168.1.201' # for example, notice that this is the IP of the computer running this script not the robot\n",
                "\n",
                "# another example using hostnames is as follows\n",
                "# ROBOT_HOSTNAME = 'robotics1' # for example, this could be an IP or a hostname depending on what is reachable on the network\n",
                "# CONSOLE_HOSTNAME = 'group1' # for example, notice that this is the hostname of the computer running this script not the robot\n",
                "\n",
                "# the following lines set up the networking variables for the scripts to run properly\n",
                "os.environ['ROS_MASTER_URI'] = 'http://{}:11311'.format(ROBOT_HOSTNAME)\n",
                "os.environ['ROS_HOSTNAME'] = CONSOLE_HOSTNAME"
            ]
        },
        {
            "cell_type": "code",
            "execution_count": null,
            "metadata": {},
            "outputs": [],
            "source": [
                "\"\"\"\n",
                "Sense Think Act Assignment:\n",
                "\n",
                "This is the main file for the assignment. You need to modify this file.\n",
                "\n",
                "(Hint) Make a class for your algorithm adapting snippets from the previous notebooks\n",
                "\"\"\"\n",
                "\n",
                "\n",
                "'''\n",
                "import some modules\n",
                "'''\n",
                "\n",
                "\n",
                "'''\n",
                "class definition\n",
                "'''\n",
                "\n",
                "\n",
                "'''\n",
                "main function\n",
                "'''\n"
            ]
        }
    ],
    "metadata": {
        "kernelspec": {
            "display_name": "Python 3 (ipykernel)",
            "language": "python",
            "name": "python3"
        },
        "language_info": {
            "codemirror_mode": {
                "name": "ipython",
                "version": 3
            },
            "file_extension": ".py",
            "mimetype": "text/x-python",
            "name": "python",
            "nbconvert_exporter": "python",
            "pygments_lexer": "ipython3",
            "version": "3.9.13"
        }
    },
    "nbformat": 4,
    "nbformat_minor": 4
}
